{
 "cells": [
  {
   "cell_type": "code",
   "execution_count": 12,
   "metadata": {},
   "outputs": [],
   "source": [
    "import librosa\n",
    "import speech_recognition as sr\n",
    "import soundfile\n",
    "import os, glob, pickle\n",
    "import numpy as np\n"
   ]
  },
  {
   "cell_type": "code",
   "execution_count": 13,
   "metadata": {},
   "outputs": [],
   "source": []
  },
  {
   "cell_type": "code",
   "execution_count": 15,
   "metadata": {},
   "outputs": [],
   "source": [
    "r = sr.Recognizer()"
   ]
  },
  {
   "cell_type": "code",
   "execution_count": 27,
   "metadata": {},
   "outputs": [
    {
     "name": "stdout",
     "output_type": "stream",
     "text": [
      "couldn't process the audio\n",
      "couldn't process the audio\n",
      "couldn't process the audio\n",
      "['talking bicycle', 'sitting by the toe', 'by the door', 'sitting by the Shore', 'sitting by the door', 'talking']\n"
     ]
    }
   ],
   "source": [
    "\n",
    "recordtext = []\n",
    "\n",
    "for file in glob.glob(\"C:\\\\Users\\\\sachin.bhoi\\\\Documents\\\\Jupyter_Notebook\\\\Speech_emotion_recognition\\\\Sachin\\\\*.wav\"):  \n",
    "    with sr.AudioFile(file) as source:\n",
    "#        print(\"Starting to listen to audio\")\n",
    "        audio = r.listen(source)\n",
    "        \n",
    "    try:\n",
    "        text = r.recognize_google(audio)\n",
    "        recordtext.append(text)\n",
    "#        print(\"End recording\")\n",
    "    except:\n",
    "        print(\"couldn't process the audio\")\n",
    "\n",
    "        \n",
    "print(recordtext)   "
   ]
  },
  {
   "cell_type": "code",
   "execution_count": null,
   "metadata": {},
   "outputs": [],
   "source": []
  }
 ],
 "metadata": {
  "kernelspec": {
   "display_name": "Python 3",
   "language": "python",
   "name": "python3"
  },
  "language_info": {
   "codemirror_mode": {
    "name": "ipython",
    "version": 3
   },
   "file_extension": ".py",
   "mimetype": "text/x-python",
   "name": "python",
   "nbconvert_exporter": "python",
   "pygments_lexer": "ipython3",
   "version": "3.7.4"
  }
 },
 "nbformat": 4,
 "nbformat_minor": 2
}
