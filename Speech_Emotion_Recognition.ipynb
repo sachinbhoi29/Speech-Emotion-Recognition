{
 "cells": [
  {
   "cell_type": "code",
   "execution_count": 59,
   "metadata": {},
   "outputs": [],
   "source": [
    "#pip install librosa "
   ]
  },
  {
   "cell_type": "code",
   "execution_count": 60,
   "metadata": {},
   "outputs": [],
   "source": [
    "import librosa"
   ]
  },
  {
   "cell_type": "code",
   "execution_count": 61,
   "metadata": {},
   "outputs": [],
   "source": [
    "import librosa\n",
    "import soundfile\n",
    "import os, glob, pickle\n",
    "import numpy as np\n",
    "from sklearn.model_selection import train_test_split\n",
    "from sklearn.neural_network import MLPClassifier\n",
    "from sklearn.metrics import accuracy_score"
   ]
  },
  {
   "cell_type": "code",
   "execution_count": 76,
   "metadata": {},
   "outputs": [],
   "source": [
    "#DataFlair - Extract features (mfcc, chroma, mel) from a sound file\n",
    "def extract_feature(file_name, mfcc, chroma, mel):\n",
    "    with soundfile.SoundFile(file_name) as sound_file:\n",
    "        X = sound_file.read(dtype=\"float32\")\n",
    "        sample_rate=sound_file.samplerate\n",
    "        if chroma:\n",
    "            stft=np.abs(librosa.stft(X))\n",
    "            result=np.array([])\n",
    "        if mfcc:\n",
    "            mfccs=np.mean(librosa.feature.mfcc(y=X, sr=sample_rate, n_mfcc=40).T, axis=0)\n",
    "            result=np.hstack((result, mfccs))\n",
    "        if chroma:\n",
    "            chroma=np.mean(librosa.feature.chroma_stft(S=stft, sr=sample_rate).T,axis=0)\n",
    "            result=np.hstack((result, chroma))\n",
    "        if mel:\n",
    "            mel=np.mean(librosa.feature.melspectrogram(X, sr=sample_rate).T,axis=0)\n",
    "            result=np.hstack((result, mel))\n",
    "    return result"
   ]
  },
  {
   "cell_type": "code",
   "execution_count": null,
   "metadata": {},
   "outputs": [],
   "source": []
  },
  {
   "cell_type": "code",
   "execution_count": 63,
   "metadata": {},
   "outputs": [],
   "source": [
    "#DataFlair - Emotions in the RAVDESS dataset\n",
    "emotions={\n",
    "  '01':'neutral',\n",
    "  '02':'calm',\n",
    "  '03':'happy',\n",
    "  '04':'sad',\n",
    "  '05':'angry',\n",
    "  '06':'fearful',\n",
    "  '07':'disgust',\n",
    "  '08':'surprised'\n",
    "}\n",
    "#DataFlair - Emotions to observe\n",
    "observed_emotions=['calm', 'happy', 'fearful', 'disgust']"
   ]
  },
  {
   "cell_type": "code",
   "execution_count": 95,
   "metadata": {},
   "outputs": [
    {
     "data": {
      "text/plain": [
       "'sad'"
      ]
     },
     "execution_count": 95,
     "metadata": {},
     "output_type": "execute_result"
    }
   ],
   "source": [
    "emotions['04']"
   ]
  },
  {
   "cell_type": "code",
   "execution_count": 79,
   "metadata": {},
   "outputs": [],
   "source": [
    "#DataFlair - Load the data and extract features for each sound file\n",
    "def load_data(test_size):\n",
    "    x,y=[],[]\n",
    "\n",
    "    for file in glob.glob(\"C:\\\\Users\\\\sachin.bhoi\\\\Documents\\\\Jupyter_Notebook\\\\Speech_emotion_recognition\\\\speech-emotion-recognition-ravdess-data\\\\Actor_*\\\\*.wav\"):\n",
    "        file_name=os.path.basename(file)\n",
    "        emotion=emotions[file_name.split(\"-\")[2]]\n",
    "        if emotion not in observed_emotions:\n",
    "            continue\n",
    "        feature=extract_feature(file, mfcc=True, chroma=True, mel=True)\n",
    "        x.append(feature)\n",
    "        y.append(emotion)\n",
    "    return train_test_split(np.array(x), y, test_size=test_size, random_state=9)\n",
    "\n",
    "#\"D:\\\\DataFlair\\\\ravdess data\\\\Actor_*\\\\*.wav\"\n",
    "#C:\\Users\\sachin.bhoi\\Documents\\Jupyter_Notebook\\Speech_emotion_recognition\\speech-emotion-recognition-ravdess-data\n"
   ]
  },
  {
   "cell_type": "code",
   "execution_count": 80,
   "metadata": {},
   "outputs": [
    {
     "data": {
      "text/plain": [
       "array([[-6.01416077e+02,  6.33363037e+01, -1.16155634e+01, ...,\n",
       "         7.30560214e-06,  4.64440200e-06,  1.78248013e-06],\n",
       "       [-7.87200195e+02,  5.97919426e+01,  2.11022396e+01, ...,\n",
       "         4.30602057e-07,  4.01216226e-07,  4.06060309e-07],\n",
       "       [-5.60616211e+02,  5.78973503e+01, -8.86894703e+00, ...,\n",
       "         6.46989676e-04,  3.31015413e-04,  1.85833647e-04],\n",
       "       ...,\n",
       "       [-4.44761963e+02,  2.36135769e+01, -1.48351011e+01, ...,\n",
       "         8.65290698e-04,  5.16015454e-04,  3.73600313e-04],\n",
       "       [-5.96088257e+02,  6.75587769e+01,  1.62860453e+00, ...,\n",
       "         2.92377263e-05,  2.20639995e-05,  1.13877868e-05],\n",
       "       [-6.95250610e+02,  4.46737938e+01, -7.46818161e+00, ...,\n",
       "         2.15334803e-05,  1.84785295e-05,  1.01300748e-05]])"
      ]
     },
     "execution_count": 80,
     "metadata": {},
     "output_type": "execute_result"
    }
   ],
   "source": [
    "#DataFlair - Split the dataset\n",
    "x_train,x_test,y_train,y_test=load_data(test_size=0.25)"
   ]
  },
  {
   "cell_type": "code",
   "execution_count": 81,
   "metadata": {},
   "outputs": [
    {
     "name": "stdout",
     "output_type": "stream",
     "text": [
      "(576, 192)\n"
     ]
    }
   ],
   "source": [
    "#DataFlair - Get the shape of the training and testing datasets\n",
    "print((x_train.shape[0], x_test.shape[0]))"
   ]
  },
  {
   "cell_type": "code",
   "execution_count": 82,
   "metadata": {},
   "outputs": [
    {
     "name": "stdout",
     "output_type": "stream",
     "text": [
      "Features extracted: 180\n"
     ]
    }
   ],
   "source": [
    "#DataFlair - Get the number of features extracted\n",
    "print(f'Features extracted: {x_train.shape[1]}')"
   ]
  },
  {
   "cell_type": "code",
   "execution_count": 83,
   "metadata": {},
   "outputs": [],
   "source": [
    "#DataFlair - Initialize the Multi Layer Perceptron Classifier\n",
    "model=MLPClassifier(alpha=0.01, batch_size=256, epsilon=1e-08, hidden_layer_sizes=(300,), learning_rate='adaptive', max_iter=500)"
   ]
  },
  {
   "cell_type": "code",
   "execution_count": 84,
   "metadata": {},
   "outputs": [
    {
     "data": {
      "text/plain": [
       "MLPClassifier(activation='relu', alpha=0.01, batch_size=256, beta_1=0.9,\n",
       "              beta_2=0.999, early_stopping=False, epsilon=1e-08,\n",
       "              hidden_layer_sizes=(300,), learning_rate='adaptive',\n",
       "              learning_rate_init=0.001, max_iter=500, momentum=0.9,\n",
       "              n_iter_no_change=10, nesterovs_momentum=True, power_t=0.5,\n",
       "              random_state=None, shuffle=True, solver='adam', tol=0.0001,\n",
       "              validation_fraction=0.1, verbose=False, warm_start=False)"
      ]
     },
     "execution_count": 84,
     "metadata": {},
     "output_type": "execute_result"
    }
   ],
   "source": [
    "#DataFlair - Train the model\n",
    "model.fit(x_train,y_train)"
   ]
  },
  {
   "cell_type": "code",
   "execution_count": 85,
   "metadata": {},
   "outputs": [
    {
     "data": {
      "text/plain": [
       "array(['happy', 'calm', 'happy', 'happy', 'calm', 'calm', 'calm', 'happy',\n",
       "       'calm', 'happy', 'happy', 'fearful', 'fearful', 'happy', 'disgust',\n",
       "       'happy', 'calm', 'calm', 'happy', 'calm', 'calm', 'disgust',\n",
       "       'calm', 'calm', 'happy', 'happy', 'calm', 'happy', 'calm',\n",
       "       'fearful', 'happy', 'happy', 'happy', 'fearful', 'happy', 'calm',\n",
       "       'calm', 'fearful', 'calm', 'calm', 'happy', 'calm', 'fearful',\n",
       "       'calm', 'fearful', 'calm', 'calm', 'calm', 'calm', 'happy',\n",
       "       'fearful', 'fearful', 'fearful', 'happy', 'happy', 'happy', 'calm',\n",
       "       'happy', 'calm', 'calm', 'disgust', 'calm', 'happy', 'calm',\n",
       "       'happy', 'calm', 'calm', 'calm', 'fearful', 'happy', 'fearful',\n",
       "       'fearful', 'fearful', 'fearful', 'fearful', 'disgust', 'fearful',\n",
       "       'happy', 'calm', 'fearful', 'calm', 'calm', 'fearful', 'calm',\n",
       "       'disgust', 'calm', 'calm', 'fearful', 'happy', 'happy', 'happy',\n",
       "       'fearful', 'calm', 'happy', 'calm', 'disgust', 'calm', 'calm',\n",
       "       'happy', 'calm', 'fearful', 'fearful', 'calm', 'fearful', 'calm',\n",
       "       'calm', 'disgust', 'happy', 'happy', 'happy', 'happy', 'calm',\n",
       "       'calm', 'fearful', 'fearful', 'calm', 'calm', 'happy', 'calm',\n",
       "       'fearful', 'calm', 'calm', 'happy', 'happy', 'fearful', 'calm',\n",
       "       'calm', 'fearful', 'calm', 'calm', 'fearful', 'fearful', 'happy',\n",
       "       'happy', 'calm', 'happy', 'fearful', 'calm', 'fearful', 'happy',\n",
       "       'calm', 'calm', 'happy', 'fearful', 'happy', 'fearful', 'happy',\n",
       "       'fearful', 'happy', 'calm', 'calm', 'happy', 'happy', 'calm',\n",
       "       'happy', 'calm', 'calm', 'fearful', 'calm', 'calm', 'happy',\n",
       "       'happy', 'calm', 'calm', 'calm', 'fearful', 'fearful', 'fearful',\n",
       "       'calm', 'fearful', 'happy', 'fearful', 'happy', 'calm', 'happy',\n",
       "       'fearful', 'calm', 'fearful', 'fearful', 'fearful', 'disgust',\n",
       "       'fearful', 'fearful', 'calm', 'calm', 'happy', 'happy', 'fearful',\n",
       "       'happy', 'fearful', 'happy', 'calm'], dtype='<U7')"
      ]
     },
     "execution_count": 85,
     "metadata": {},
     "output_type": "execute_result"
    }
   ],
   "source": [
    "#DataFlair - Predict for the test set\n",
    "y_pred=model.predict(x_test)\n",
    "y_pred"
   ]
  },
  {
   "cell_type": "code",
   "execution_count": 86,
   "metadata": {},
   "outputs": [
    {
     "name": "stdout",
     "output_type": "stream",
     "text": [
      "Accuracy: 60.42%\n"
     ]
    }
   ],
   "source": [
    "#DataFlair - Calculate the accuracy of our model\n",
    "accuracy=accuracy_score(y_true=y_test, y_pred=y_pred)\n",
    "#DataFlair - Print the accuracy\n",
    "print(\"Accuracy: {:.2f}%\".format(accuracy*100))"
   ]
  },
  {
   "cell_type": "code",
   "execution_count": null,
   "metadata": {},
   "outputs": [],
   "source": []
  }
 ],
 "metadata": {
  "kernelspec": {
   "display_name": "Python 3",
   "language": "python",
   "name": "python3"
  },
  "language_info": {
   "codemirror_mode": {
    "name": "ipython",
    "version": 3
   },
   "file_extension": ".py",
   "mimetype": "text/x-python",
   "name": "python",
   "nbconvert_exporter": "python",
   "pygments_lexer": "ipython3",
   "version": "3.7.4"
  }
 },
 "nbformat": 4,
 "nbformat_minor": 2
}
