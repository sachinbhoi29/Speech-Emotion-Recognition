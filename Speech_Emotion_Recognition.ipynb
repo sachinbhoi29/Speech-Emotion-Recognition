{
 "cells": [
  {
   "cell_type": "code",
   "execution_count": 76,
   "metadata": {},
   "outputs": [],
   "source": [
    "#pip install librosa "
   ]
  },
  {
   "cell_type": "code",
   "execution_count": 77,
   "metadata": {},
   "outputs": [],
   "source": [
    "import librosa"
   ]
  },
  {
   "cell_type": "code",
   "execution_count": 78,
   "metadata": {},
   "outputs": [],
   "source": [
    "import librosa\n",
    "import soundfile\n",
    "import os, glob, pickle\n",
    "import numpy as np\n",
    "from sklearn.model_selection import train_test_split\n",
    "from sklearn.neural_network import MLPClassifier\n",
    "from sklearn.metrics import accuracy_score\n",
    "\n",
    "\n",
    "# Python script for confusion matrix creation. \n",
    "from sklearn.metrics import confusion_matrix \n",
    "from sklearn.metrics import accuracy_score \n",
    "from sklearn.metrics import classification_report"
   ]
  },
  {
   "cell_type": "code",
   "execution_count": 79,
   "metadata": {},
   "outputs": [],
   "source": [
    "#DataFlair - Extract features (mfcc, chroma, mel) from a sound file\n",
    "def extract_feature(file_name, mfcc, chroma, mel):\n",
    "    with soundfile.SoundFile(file_name) as sound_file:\n",
    "        X = sound_file.read(dtype=\"float32\")\n",
    "        sample_rate=sound_file.samplerate\n",
    "        if chroma:\n",
    "            stft=np.abs(librosa.stft(X))\n",
    "            result=np.array([])\n",
    "        if mfcc:\n",
    "            mfccs=np.mean(librosa.feature.mfcc(y=X, sr=sample_rate, n_mfcc=40).T, axis=0)\n",
    "            result=np.hstack((result, mfccs))\n",
    "        if chroma:\n",
    "            chroma=np.mean(librosa.feature.chroma_stft(S=stft, sr=sample_rate).T,axis=0)\n",
    "            result=np.hstack((result, chroma))\n",
    "        if mel:\n",
    "            mel=np.mean(librosa.feature.melspectrogram(X, sr=sample_rate).T,axis=0)\n",
    "            result=np.hstack((result, mel))\n",
    "    return result"
   ]
  },
  {
   "cell_type": "code",
   "execution_count": null,
   "metadata": {},
   "outputs": [],
   "source": []
  },
  {
   "cell_type": "code",
   "execution_count": 80,
   "metadata": {},
   "outputs": [],
   "source": [
    "#DataFlair - Emotions in the RAVDESS dataset\n",
    "emotions={\n",
    "  '01':'neutral',\n",
    "  '02':'calm',\n",
    "  '03':'happy',\n",
    "  '04':'sad',\n",
    "  '05':'angry',\n",
    "  '06':'fearful',\n",
    "  '07':'disgust',\n",
    "  '08':'surprised'\n",
    "}\n",
    "#DataFlair - Emotions to observe\n",
    "observed_emotions=['calm', 'happy', 'fearful', 'disgust']"
   ]
  },
  {
   "cell_type": "code",
   "execution_count": 81,
   "metadata": {},
   "outputs": [
    {
     "data": {
      "text/plain": [
       "'sad'"
      ]
     },
     "execution_count": 81,
     "metadata": {},
     "output_type": "execute_result"
    }
   ],
   "source": [
    "emotions['04']"
   ]
  },
  {
   "cell_type": "code",
   "execution_count": 82,
   "metadata": {},
   "outputs": [],
   "source": [
    "#DataFlair - Load the data and extract features for each sound file\n",
    "def load_data(test_size):\n",
    "    x,y=[],[]\n",
    "\n",
    "    for file in glob.glob(\"C:\\\\Users\\\\sachin.bhoi\\\\Documents\\\\Jupyter_Notebook\\\\Speech_emotion_recognition\\\\speech-emotion-recognition-ravdess-data\\\\Actor_*\\\\*.wav\"):\n",
    "        file_name=os.path.basename(file)\n",
    "        emotion=emotions[file_name.split(\"-\")[2]]\n",
    "        if emotion not in observed_emotions:\n",
    "            continue\n",
    "        feature=extract_feature(file, mfcc=True, chroma=True, mel=True)\n",
    "        x.append(feature)\n",
    "        y.append(emotion)\n",
    "    return train_test_split(np.array(x), y, test_size=test_size, random_state=9)\n",
    "\n",
    "#\"D:\\\\DataFlair\\\\ravdess data\\\\Actor_*\\\\*.wav\"\n",
    "#C:\\Users\\sachin.bhoi\\Documents\\Jupyter_Notebook\\Speech_emotion_recognition\\speech-emotion-recognition-ravdess-data\n"
   ]
  },
  {
   "cell_type": "code",
   "execution_count": 83,
   "metadata": {},
   "outputs": [],
   "source": [
    "#DataFlair - Split the dataset\n",
    "x_train,x_test,y_train,y_test=load_data(test_size=0.25)"
   ]
  },
  {
   "cell_type": "code",
   "execution_count": 84,
   "metadata": {},
   "outputs": [
    {
     "name": "stdout",
     "output_type": "stream",
     "text": [
      "(576, 192)\n"
     ]
    }
   ],
   "source": [
    "#DataFlair - Get the shape of the training and testing datasets\n",
    "print((x_train.shape[0], x_test.shape[0]))"
   ]
  },
  {
   "cell_type": "code",
   "execution_count": 85,
   "metadata": {},
   "outputs": [
    {
     "name": "stdout",
     "output_type": "stream",
     "text": [
      "Features extracted: 180\n"
     ]
    }
   ],
   "source": [
    "#DataFlair - Get the number of features extracted\n",
    "print(f'Features extracted: {x_train.shape[1]}')"
   ]
  },
  {
   "cell_type": "code",
   "execution_count": 86,
   "metadata": {},
   "outputs": [],
   "source": [
    "#DataFlair - Initialize the Multi Layer Perceptron Classifier\n",
    "model=MLPClassifier(alpha=0.01, batch_size=256, epsilon=1e-08, hidden_layer_sizes=(300,), learning_rate='adaptive', max_iter=500)"
   ]
  },
  {
   "cell_type": "code",
   "execution_count": 87,
   "metadata": {},
   "outputs": [
    {
     "data": {
      "text/plain": [
       "MLPClassifier(activation='relu', alpha=0.01, batch_size=256, beta_1=0.9,\n",
       "              beta_2=0.999, early_stopping=False, epsilon=1e-08,\n",
       "              hidden_layer_sizes=(300,), learning_rate='adaptive',\n",
       "              learning_rate_init=0.001, max_iter=500, momentum=0.9,\n",
       "              n_iter_no_change=10, nesterovs_momentum=True, power_t=0.5,\n",
       "              random_state=None, shuffle=True, solver='adam', tol=0.0001,\n",
       "              validation_fraction=0.1, verbose=False, warm_start=False)"
      ]
     },
     "execution_count": 87,
     "metadata": {},
     "output_type": "execute_result"
    }
   ],
   "source": [
    "#DataFlair - Train the model\n",
    "model.fit(x_train,y_train)"
   ]
  },
  {
   "cell_type": "code",
   "execution_count": 88,
   "metadata": {},
   "outputs": [
    {
     "data": {
      "text/plain": [
       "array(['happy', 'calm', 'happy', 'happy', 'disgust', 'calm', 'calm',\n",
       "       'disgust', 'calm', 'happy', 'happy', 'fearful', 'fearful', 'happy',\n",
       "       'disgust', 'happy', 'calm', 'disgust', 'happy', 'calm', 'disgust',\n",
       "       'disgust', 'disgust', 'calm', 'happy', 'happy', 'calm', 'happy',\n",
       "       'fearful', 'fearful', 'happy', 'fearful', 'happy', 'calm', 'happy',\n",
       "       'calm', 'calm', 'fearful', 'calm', 'calm', 'happy', 'calm', 'calm',\n",
       "       'calm', 'disgust', 'calm', 'disgust', 'calm', 'calm', 'happy',\n",
       "       'fearful', 'fearful', 'calm', 'fearful', 'disgust', 'fearful',\n",
       "       'calm', 'happy', 'calm', 'calm', 'disgust', 'calm', 'disgust',\n",
       "       'calm', 'disgust', 'calm', 'calm', 'disgust', 'disgust', 'happy',\n",
       "       'fearful', 'fearful', 'fearful', 'fearful', 'fearful', 'disgust',\n",
       "       'fearful', 'happy', 'calm', 'fearful', 'disgust', 'calm',\n",
       "       'fearful', 'calm', 'disgust', 'calm', 'disgust', 'fearful',\n",
       "       'disgust', 'fearful', 'disgust', 'fearful', 'calm', 'happy',\n",
       "       'disgust', 'fearful', 'calm', 'calm', 'calm', 'calm', 'fearful',\n",
       "       'disgust', 'disgust', 'fearful', 'disgust', 'calm', 'disgust',\n",
       "       'disgust', 'fearful', 'happy', 'happy', 'calm', 'calm', 'fearful',\n",
       "       'fearful', 'calm', 'calm', 'happy', 'calm', 'fearful', 'calm',\n",
       "       'calm', 'calm', 'happy', 'fearful', 'calm', 'disgust', 'fearful',\n",
       "       'calm', 'calm', 'fearful', 'happy', 'happy', 'disgust', 'disgust',\n",
       "       'disgust', 'fearful', 'calm', 'disgust', 'fearful', 'calm',\n",
       "       'fearful', 'disgust', 'disgust', 'happy', 'fearful', 'disgust',\n",
       "       'happy', 'happy', 'calm', 'calm', 'happy', 'happy', 'calm',\n",
       "       'happy', 'calm', 'calm', 'disgust', 'calm', 'disgust', 'disgust',\n",
       "       'calm', 'calm', 'calm', 'calm', 'happy', 'fearful', 'happy',\n",
       "       'calm', 'fearful', 'happy', 'fearful', 'disgust', 'disgust',\n",
       "       'happy', 'fearful', 'calm', 'fearful', 'calm', 'happy', 'disgust',\n",
       "       'fearful', 'calm', 'calm', 'disgust', 'fearful', 'disgust',\n",
       "       'fearful', 'happy', 'happy', 'disgust', 'calm'], dtype='<U7')"
      ]
     },
     "execution_count": 88,
     "metadata": {},
     "output_type": "execute_result"
    }
   ],
   "source": [
    "#DataFlair - Predict for the test set\n",
    "y_pred=model.predict(x_test)\n",
    "y_pred"
   ]
  },
  {
   "cell_type": "code",
   "execution_count": 89,
   "metadata": {},
   "outputs": [
    {
     "name": "stdout",
     "output_type": "stream",
     "text": [
      "[[51  4  2  0]\n",
      " [ 6 33  4  5]\n",
      " [ 3  1 29  4]\n",
      " [ 6  6  8 30]]\n"
     ]
    }
   ],
   "source": [
    "CM = confusion_matrix(y_test, y_pred)\n",
    "print(CM)"
   ]
  },
  {
   "cell_type": "code",
   "execution_count": 90,
   "metadata": {},
   "outputs": [
    {
     "name": "stdout",
     "output_type": "stream",
     "text": [
      "Accuracy: 74.48%\n"
     ]
    }
   ],
   "source": [
    "#DataFlair - Calculate the accuracy of our model\n",
    "accuracy=accuracy_score(y_true=y_test, y_pred=y_pred)\n",
    "#DataFlair - Print the accuracy\n",
    "print(\"Accuracy: {:.2f}%\".format(accuracy*100))"
   ]
  },
  {
   "cell_type": "code",
   "execution_count": 91,
   "metadata": {},
   "outputs": [
    {
     "name": "stdout",
     "output_type": "stream",
     "text": [
      "03-01-02-02-01-02-03.wav\n",
      "03-01-02-02-02-01-03.wav\n",
      "03-01-02-02-02-02-03.wav\n",
      "03-01-03-01-01-01-03.wav\n",
      "03-01-03-01-01-02-03.wav\n",
      "03-01-03-01-02-01-03.wav\n",
      "03-01-03-01-02-02-03.wav\n",
      "03-01-03-02-01-01-03.wav\n",
      "03-01-03-02-01-02-03.wav\n"
     ]
    }
   ],
   "source": [
    "Sachin = []     # creates an empty list in python\n",
    "x = []\n",
    "for file in glob.glob(\"C:\\\\Users\\\\sachin.bhoi\\\\Documents\\\\Jupyter_Notebook\\\\Speech_emotion_recognition\\\\Sachin\\\\*.wav\"):   # for each file in this folder\n",
    "        feature=extract_feature(file, mfcc=True, chroma=True, mel=True)    # extract the features of the sound from each file \n",
    "        x.append(emotions[file_name.split(\"-\")[2]])          # appends the real emotions, decoded from the file name by the emotions dictionary\n",
    "        Sachin.append(feature)     # appends the features into the list\n",
    "        file_name=os.path.basename(file)    # os.path.basename(file), this thing only gives the file name in .wav, ----> file gives all the path of the file location from the root drive            \n",
    "        emotion=emotions[file_name.split(\"-\")[2]]     # file_name.split(\"-\")[2] this thing gives the value of 3rd (first location starts from 0) digit after \"-\" in file and the emotions dictionary decodes this code number according to the corrosponding emotion like happy, disguist and save it in emotion  \n",
    "        print(os.path.basename(file))     #prints the emotion text every time in loop\n",
    "#Sachin[0]"
   ]
  },
  {
   "cell_type": "code",
   "execution_count": null,
   "metadata": {},
   "outputs": [],
   "source": []
  },
  {
   "cell_type": "code",
   "execution_count": 92,
   "metadata": {},
   "outputs": [
    {
     "name": "stdout",
     "output_type": "stream",
     "text": [
      "Real emotion ---> sad  Vs the Machine Learning Prediction ---> calm\n",
      "Real emotion ---> calm  Vs the Machine Learning Prediction ---> calm\n",
      "Real emotion ---> calm  Vs the Machine Learning Prediction ---> calm\n",
      "Real emotion ---> calm  Vs the Machine Learning Prediction ---> happy\n",
      "Real emotion ---> happy  Vs the Machine Learning Prediction ---> happy\n",
      "Real emotion ---> happy  Vs the Machine Learning Prediction ---> happy\n",
      "Real emotion ---> happy  Vs the Machine Learning Prediction ---> happy\n",
      "Real emotion ---> happy  Vs the Machine Learning Prediction ---> happy\n",
      "Real emotion ---> happy  Vs the Machine Learning Prediction ---> disgust\n"
     ]
    }
   ],
   "source": [
    "pred = model.predict(Sachin)     # predicts the lable (emotion) from the set of features in the Sachin list\n",
    "for i in range(len(Sachin)):     # For the number of files, repeat the loop so many times\n",
    "    print(\"Real emotion --->\", x[i], \" Vs the Machine Learning Prediction --->\", pred[i]) # Real emotion vs the prediction\n"
   ]
  }
 ],
 "metadata": {
  "kernelspec": {
   "display_name": "Python 3",
   "language": "python",
   "name": "python3"
  },
  "language_info": {
   "codemirror_mode": {
    "name": "ipython",
    "version": 3
   },
   "file_extension": ".py",
   "mimetype": "text/x-python",
   "name": "python",
   "nbconvert_exporter": "python",
   "pygments_lexer": "ipython3",
   "version": "3.7.4"
  }
 },
 "nbformat": 4,
 "nbformat_minor": 2
}
