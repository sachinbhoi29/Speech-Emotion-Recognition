{
 "cells": [
  {
   "cell_type": "code",
   "execution_count": 2,
   "metadata": {},
   "outputs": [],
   "source": [
    "#pip install librosa "
   ]
  },
  {
   "cell_type": "code",
   "execution_count": 3,
   "metadata": {},
   "outputs": [],
   "source": [
    "import librosa"
   ]
  },
  {
   "cell_type": "code",
   "execution_count": 72,
   "metadata": {},
   "outputs": [],
   "source": [
    "import librosa\n",
    "import soundfile\n",
    "import os, glob, pickle\n",
    "import numpy as np\n",
    "from sklearn.model_selection import train_test_split\n",
    "from sklearn.neural_network import MLPClassifier\n",
    "from sklearn.metrics import accuracy_score\n",
    "\n",
    "\n",
    "# Python script for confusion matrix creation. \n",
    "from sklearn.metrics import confusion_matrix \n",
    "from sklearn.metrics import accuracy_score \n",
    "from sklearn.metrics import classification_report"
   ]
  },
  {
   "cell_type": "code",
   "execution_count": 5,
   "metadata": {},
   "outputs": [],
   "source": [
    "#DataFlair - Extract features (mfcc, chroma, mel) from a sound file\n",
    "def extract_feature(file_name, mfcc, chroma, mel):\n",
    "    with soundfile.SoundFile(file_name) as sound_file:\n",
    "        X = sound_file.read(dtype=\"float32\")\n",
    "        sample_rate=sound_file.samplerate\n",
    "        if chroma:\n",
    "            stft=np.abs(librosa.stft(X))\n",
    "            result=np.array([])\n",
    "        if mfcc:\n",
    "            mfccs=np.mean(librosa.feature.mfcc(y=X, sr=sample_rate, n_mfcc=40).T, axis=0)\n",
    "            result=np.hstack((result, mfccs))\n",
    "        if chroma:\n",
    "            chroma=np.mean(librosa.feature.chroma_stft(S=stft, sr=sample_rate).T,axis=0)\n",
    "            result=np.hstack((result, chroma))\n",
    "        if mel:\n",
    "            mel=np.mean(librosa.feature.melspectrogram(X, sr=sample_rate).T,axis=0)\n",
    "            result=np.hstack((result, mel))\n",
    "    return result"
   ]
  },
  {
   "cell_type": "code",
   "execution_count": null,
   "metadata": {},
   "outputs": [],
   "source": []
  },
  {
   "cell_type": "code",
   "execution_count": 6,
   "metadata": {},
   "outputs": [],
   "source": [
    "#DataFlair - Emotions in the RAVDESS dataset\n",
    "emotions={\n",
    "  '01':'neutral',\n",
    "  '02':'calm',\n",
    "  '03':'happy',\n",
    "  '04':'sad',\n",
    "  '05':'angry',\n",
    "  '06':'fearful',\n",
    "  '07':'disgust',\n",
    "  '08':'surprised'\n",
    "}\n",
    "#DataFlair - Emotions to observe\n",
    "observed_emotions=['calm', 'happy', 'fearful', 'disgust']"
   ]
  },
  {
   "cell_type": "code",
   "execution_count": 7,
   "metadata": {},
   "outputs": [
    {
     "data": {
      "text/plain": [
       "'sad'"
      ]
     },
     "execution_count": 7,
     "metadata": {},
     "output_type": "execute_result"
    }
   ],
   "source": [
    "emotions['04']"
   ]
  },
  {
   "cell_type": "code",
   "execution_count": 8,
   "metadata": {},
   "outputs": [],
   "source": [
    "#DataFlair - Load the data and extract features for each sound file\n",
    "def load_data(test_size):\n",
    "    x,y=[],[]\n",
    "\n",
    "    for file in glob.glob(\"C:\\\\Users\\\\sachin.bhoi\\\\Documents\\\\Jupyter_Notebook\\\\Speech_emotion_recognition\\\\speech-emotion-recognition-ravdess-data\\\\Actor_*\\\\*.wav\"):\n",
    "        file_name=os.path.basename(file)\n",
    "        emotion=emotions[file_name.split(\"-\")[2]]\n",
    "        if emotion not in observed_emotions:\n",
    "            continue\n",
    "        feature=extract_feature(file, mfcc=True, chroma=True, mel=True)\n",
    "        x.append(feature)\n",
    "        y.append(emotion)\n",
    "    return train_test_split(np.array(x), y, test_size=test_size, random_state=9)\n",
    "\n",
    "#\"D:\\\\DataFlair\\\\ravdess data\\\\Actor_*\\\\*.wav\"\n",
    "#C:\\Users\\sachin.bhoi\\Documents\\Jupyter_Notebook\\Speech_emotion_recognition\\speech-emotion-recognition-ravdess-data\n"
   ]
  },
  {
   "cell_type": "code",
   "execution_count": 9,
   "metadata": {},
   "outputs": [],
   "source": [
    "#DataFlair - Split the dataset\n",
    "x_train,x_test,y_train,y_test=load_data(test_size=0.25)"
   ]
  },
  {
   "cell_type": "code",
   "execution_count": 10,
   "metadata": {},
   "outputs": [
    {
     "name": "stdout",
     "output_type": "stream",
     "text": [
      "(576, 192)\n"
     ]
    }
   ],
   "source": [
    "#DataFlair - Get the shape of the training and testing datasets\n",
    "print((x_train.shape[0], x_test.shape[0]))"
   ]
  },
  {
   "cell_type": "code",
   "execution_count": 11,
   "metadata": {},
   "outputs": [
    {
     "name": "stdout",
     "output_type": "stream",
     "text": [
      "Features extracted: 180\n"
     ]
    }
   ],
   "source": [
    "#DataFlair - Get the number of features extracted\n",
    "print(f'Features extracted: {x_train.shape[1]}')"
   ]
  },
  {
   "cell_type": "code",
   "execution_count": 12,
   "metadata": {},
   "outputs": [],
   "source": [
    "#DataFlair - Initialize the Multi Layer Perceptron Classifier\n",
    "model=MLPClassifier(alpha=0.01, batch_size=256, epsilon=1e-08, hidden_layer_sizes=(300,), learning_rate='adaptive', max_iter=500)"
   ]
  },
  {
   "cell_type": "code",
   "execution_count": 13,
   "metadata": {},
   "outputs": [
    {
     "data": {
      "text/plain": [
       "MLPClassifier(activation='relu', alpha=0.01, batch_size=256, beta_1=0.9,\n",
       "              beta_2=0.999, early_stopping=False, epsilon=1e-08,\n",
       "              hidden_layer_sizes=(300,), learning_rate='adaptive',\n",
       "              learning_rate_init=0.001, max_iter=500, momentum=0.9,\n",
       "              n_iter_no_change=10, nesterovs_momentum=True, power_t=0.5,\n",
       "              random_state=None, shuffle=True, solver='adam', tol=0.0001,\n",
       "              validation_fraction=0.1, verbose=False, warm_start=False)"
      ]
     },
     "execution_count": 13,
     "metadata": {},
     "output_type": "execute_result"
    }
   ],
   "source": [
    "#DataFlair - Train the model\n",
    "model.fit(x_train,y_train)"
   ]
  },
  {
   "cell_type": "code",
   "execution_count": 14,
   "metadata": {},
   "outputs": [
    {
     "data": {
      "text/plain": [
       "array(['happy', 'calm', 'disgust', 'calm', 'disgust', 'calm', 'calm',\n",
       "       'happy', 'calm', 'fearful', 'happy', 'fearful', 'fearful', 'happy',\n",
       "       'disgust', 'happy', 'calm', 'disgust', 'disgust', 'calm',\n",
       "       'disgust', 'disgust', 'disgust', 'calm', 'happy', 'happy',\n",
       "       'fearful', 'happy', 'fearful', 'fearful', 'happy', 'disgust',\n",
       "       'happy', 'fearful', 'happy', 'calm', 'calm', 'fearful', 'calm',\n",
       "       'disgust', 'happy', 'disgust', 'fearful', 'calm', 'fearful',\n",
       "       'disgust', 'disgust', 'calm', 'disgust', 'happy', 'fearful',\n",
       "       'fearful', 'disgust', 'fearful', 'disgust', 'happy', 'disgust',\n",
       "       'disgust', 'calm', 'calm', 'disgust', 'calm', 'disgust', 'happy',\n",
       "       'disgust', 'calm', 'calm', 'disgust', 'disgust', 'happy',\n",
       "       'fearful', 'fearful', 'fearful', 'fearful', 'fearful', 'disgust',\n",
       "       'fearful', 'happy', 'calm', 'fearful', 'disgust', 'calm',\n",
       "       'fearful', 'calm', 'disgust', 'fearful', 'disgust', 'fearful',\n",
       "       'happy', 'disgust', 'disgust', 'fearful', 'disgust', 'happy',\n",
       "       'disgust', 'fearful', 'calm', 'fearful', 'fearful', 'calm',\n",
       "       'fearful', 'fearful', 'disgust', 'disgust', 'disgust', 'calm',\n",
       "       'disgust', 'disgust', 'disgust', 'happy', 'calm', 'calm',\n",
       "       'fearful', 'fearful', 'fearful', 'disgust', 'disgust', 'happy',\n",
       "       'happy', 'fearful', 'disgust', 'calm', 'disgust', 'happy',\n",
       "       'fearful', 'disgust', 'disgust', 'fearful', 'calm', 'calm',\n",
       "       'fearful', 'fearful', 'happy', 'disgust', 'disgust', 'happy',\n",
       "       'fearful', 'calm', 'fearful', 'happy', 'calm', 'calm', 'disgust',\n",
       "       'fearful', 'happy', 'fearful', 'disgust', 'fearful', 'happy',\n",
       "       'fearful', 'calm', 'happy', 'fearful', 'calm', 'happy', 'calm',\n",
       "       'calm', 'disgust', 'calm', 'disgust', 'disgust', 'happy', 'calm',\n",
       "       'calm', 'disgust', 'fearful', 'fearful', 'fearful', 'calm',\n",
       "       'fearful', 'happy', 'fearful', 'disgust', 'disgust', 'fearful',\n",
       "       'fearful', 'calm', 'fearful', 'fearful', 'fearful', 'disgust',\n",
       "       'fearful', 'fearful', 'calm', 'disgust', 'fearful', 'happy',\n",
       "       'fearful', 'disgust', 'fearful', 'disgust', 'calm'], dtype='<U7')"
      ]
     },
     "execution_count": 14,
     "metadata": {},
     "output_type": "execute_result"
    }
   ],
   "source": [
    "#DataFlair - Predict for the test set\n",
    "y_pred=model.predict(x_test)\n",
    "y_pred"
   ]
  },
  {
   "cell_type": "code",
   "execution_count": 75,
   "metadata": {},
   "outputs": [
    {
     "name": "stdout",
     "output_type": "stream",
     "text": [
      "[[32 14  8  3]\n",
      " [ 3 32  8  5]\n",
      " [ 1  5 27  4]\n",
      " [ 7  6 16 21]]\n"
     ]
    }
   ],
   "source": [
    "CM = confusion_matrix(y_test, y_pred)\n",
    "print(CM)"
   ]
  },
  {
   "cell_type": "code",
   "execution_count": 15,
   "metadata": {},
   "outputs": [
    {
     "name": "stdout",
     "output_type": "stream",
     "text": [
      "Accuracy: 58.33%\n"
     ]
    }
   ],
   "source": [
    "#DataFlair - Calculate the accuracy of our model\n",
    "accuracy=accuracy_score(y_true=y_test, y_pred=y_pred)\n",
    "#DataFlair - Print the accuracy\n",
    "print(\"Accuracy: {:.2f}%\".format(accuracy*100))"
   ]
  },
  {
   "cell_type": "code",
   "execution_count": 65,
   "metadata": {},
   "outputs": [
    {
     "name": "stdout",
     "output_type": "stream",
     "text": [
      "03-01-03-02-02-02-03.wav\n",
      "03-01-04-01-01-01-03.wav\n",
      "03-01-04-01-01-02-03.wav\n",
      "03-01-04-01-02-01-03.wav\n"
     ]
    }
   ],
   "source": [
    "Sachin = []     # creates an empty list in python\n",
    "x = []\n",
    "for file in glob.glob(\"C:\\\\Users\\\\sachin.bhoi\\\\Documents\\\\Jupyter_Notebook\\\\Speech_emotion_recognition\\\\Sachin\\\\*.wav\"):   # for each file in this folder\n",
    "        feature=extract_feature(file, mfcc=True, chroma=True, mel=True)    # extract the features of the sound from each file \n",
    "        x.append(emotions[file_name.split(\"-\")[2]])          # appends the real emotions, decoded from the file name by the emotions dictionary\n",
    "        Sachin.append(feature)     # appends the features into the list\n",
    "        file_name=os.path.basename(file)    # os.path.basename(file), this thing only gives the file name in .wav, ----> file gives all the path of the file location from the root drive            \n",
    "        emotion=emotions[file_name.split(\"-\")[2]]     # file_name.split(\"-\")[2] this thing gives the value of 3rd (first location starts from 0) digit after \"-\" in file and the emotions dictionary decodes this code number according to the corrosponding emotion like happy, disguist and save it in emotion  \n",
    "        print(os.path.basename(file))     #prints the emotion text every time in loop\n",
    "#Sachin[0]"
   ]
  },
  {
   "cell_type": "code",
   "execution_count": null,
   "metadata": {},
   "outputs": [],
   "source": []
  },
  {
   "cell_type": "code",
   "execution_count": 71,
   "metadata": {},
   "outputs": [
    {
     "name": "stdout",
     "output_type": "stream",
     "text": [
      "Real emotion ---> sad  Vs the Machine Learning Prediction ---> happy\n",
      "Real emotion ---> happy  Vs the Machine Learning Prediction ---> calm\n",
      "Real emotion ---> sad  Vs the Machine Learning Prediction ---> calm\n",
      "Real emotion ---> sad  Vs the Machine Learning Prediction ---> fearful\n"
     ]
    }
   ],
   "source": [
    "pred = model.predict(Sachin)     # predicts the lable (emotion) from the set of features in the Sachin list\n",
    "for i in range(len(Sachin)):     # For the number of files, repeat the loop so many times\n",
    "    print(\"Real emotion --->\", x[i], \" Vs the Machine Learning Prediction --->\", pred[i]) # Real emotion vs the prediction\n"
   ]
  }
 ],
 "metadata": {
  "kernelspec": {
   "display_name": "Python 3",
   "language": "python",
   "name": "python3"
  },
  "language_info": {
   "codemirror_mode": {
    "name": "ipython",
    "version": 3
   },
   "file_extension": ".py",
   "mimetype": "text/x-python",
   "name": "python",
   "nbconvert_exporter": "python",
   "pygments_lexer": "ipython3",
   "version": "3.7.4"
  }
 },
 "nbformat": 4,
 "nbformat_minor": 2
}
