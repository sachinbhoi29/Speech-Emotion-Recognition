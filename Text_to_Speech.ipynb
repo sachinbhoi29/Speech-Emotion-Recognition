{
 "cells": [
  {
   "cell_type": "code",
   "execution_count": 138,
   "metadata": {},
   "outputs": [],
   "source": [
    "# Import the required module for text \n",
    "# to speech conversion \n",
    "from gtts import gTTS \n",
    "# This module is imported so that we can \n",
    "# play the converted audio \n",
    "import os "
   ]
  },
  {
   "cell_type": "code",
   "execution_count": 154,
   "metadata": {},
   "outputs": [
    {
     "data": {
      "text/plain": [
       "<_io.TextIOWrapper name='greetings.txt' mode='r' encoding='cp1252'>"
      ]
     },
     "execution_count": 154,
     "metadata": {},
     "output_type": "execute_result"
    }
   ],
   "source": [
    "greet = open(\"greetings.txt\", \"r\")\n",
    "greet"
   ]
  },
  {
   "cell_type": "code",
   "execution_count": 155,
   "metadata": {},
   "outputs": [
    {
     "data": {
      "text/plain": [
       "'So, how are you doing today?\\n'"
      ]
     },
     "execution_count": 155,
     "metadata": {},
     "output_type": "execute_result"
    }
   ],
   "source": [
    "greet = greet.readlines()\n",
    "greet[0]   # it creates a list of greetings"
   ]
  },
  {
   "cell_type": "code",
   "execution_count": null,
   "metadata": {},
   "outputs": [],
   "source": []
  },
  {
   "cell_type": "code",
   "execution_count": 156,
   "metadata": {},
   "outputs": [
    {
     "data": {
      "text/plain": [
       "'So, how are you doing today?'"
      ]
     },
     "execution_count": 156,
     "metadata": {},
     "output_type": "execute_result"
    }
   ],
   "source": [
    "greet[0] = greet[0].rstrip(\"\\n\")   # strips the \\n for new line from every sentence\n",
    "greet[0]"
   ]
  },
  {
   "cell_type": "code",
   "execution_count": 157,
   "metadata": {},
   "outputs": [],
   "source": [
    "# traditional for loop approach\n",
    "gr = []        #creating an empty list\n",
    "for greets in greet:     #for all elements in the list \n",
    "#    print(greets)\n",
    "    gr.append(greets.rstrip(\"\\n\"))\n",
    "#gr"
   ]
  },
  {
   "cell_type": "code",
   "execution_count": 158,
   "metadata": {},
   "outputs": [],
   "source": [
    "gr_new = list(map(lambda greets:greets.rstrip(\"\\n\"),greet))   #map one line function, map(function,list/tuple/itterable object), lambda(input,output)\n",
    "#gr_new    # does the same thing as gr but faster, efficient and compact"
   ]
  },
  {
   "cell_type": "code",
   "execution_count": 159,
   "metadata": {},
   "outputs": [],
   "source": [
    "# Language in which you want to convert \n",
    "language = 'en'"
   ]
  },
  {
   "cell_type": "code",
   "execution_count": 160,
   "metadata": {},
   "outputs": [
    {
     "name": "stdout",
     "output_type": "stream",
     "text": [
      "Sohowareyoudoingtoday.mp3\n",
      "Hithere.mp3\n",
      "Hello.mp3\n",
      "Howdoyoudo.mp3\n",
      "Goodafternoon.mp3\n",
      "Goodday.mp3\n",
      "Aloha.mp3\n",
      "Itsgoodtoseeyou.mp3\n",
      "Itssonicetohearfromyou.mp3\n",
      "Yo.mp3\n",
      "Sup.mp3\n",
      "Hey.mp3\n",
      "Howdypartner.mp3\n",
      "Heyyou.mp3\n",
      "Greetingsearthling.mp3\n",
      "Hiya.mp3\n",
      "Heyman.mp3\n",
      "SayWhaaaaaat.mp3\n",
      "Heymister.mp3\n",
      "Hullo.mp3\n",
      "Yeehaw.mp3\n",
      "Winks.mp3\n",
      "Littlewave.mp3\n",
      "Smile.mp3\n",
      "fistbump.mp3\n",
      "Highfive.mp3\n",
      "Aight.mp3\n",
      "Heybuddy.mp3\n",
      "Brother.mp3\n",
      "Putittherepardner.mp3\n",
      "Heeyyyyyyyyyy.mp3\n",
      "Cheers.mp3\n",
      "Howdy.mp3\n",
      "Suuuuuuuuuuppp.mp3\n",
      "Watchadoing.mp3\n",
      "Howyoudoin.mp3\n",
      "GoodmorningMrSmith.mp3\n",
      "HelloMsAndersonHowareyoutoday.mp3\n",
      "Itsgreattoseeyou.mp3\n",
      "Itsnicetomeetyou.mp3\n",
      "DearReader.mp3\n",
      "DearFriend.mp3\n",
      "Itsgoodtoseeyouoldboy.mp3\n",
      "LadiesandGentlemen.mp3\n",
      "Youlookthesameasevermygirl.mp3\n",
      "Welcome.mp3\n",
      "Bonjour.mp3\n",
      "Namaste.mp3\n",
      "OhhelloIdidntseeyoutherebefore.mp3\n",
      "Whyhello.mp3\n",
      "Oi.mp3\n",
      "Yoohoo.mp3\n",
      "Itsabeautifulday.mp3\n",
      "Gday.mp3\n",
      "Riseandshine.mp3\n",
      "Whatalovelymorning.mp3\n",
      "Whatwonderfulweatherwerehaving.mp3\n",
      "Howsmyfavoritelittlegirl.mp3\n",
      "Hellopeopleofthenewworld.mp3\n",
      "Heysonny.mp3\n",
      "Morningsweetie.mp3\n",
      "Afternoonboss.mp3\n",
      "EveningGeneral.mp3\n",
      "HellosirmynameissachinandIamcallingfromexponentiaisthisagoodtimetotalktoyouhowareyoudoingtoday.mp3\n"
     ]
    }
   ],
   "source": [
    "for gr_new1 in gr_new:\n",
    "#    print(gr_new1)\n",
    "#    myobj.save(\"welcome.mp3\")\n",
    "    gr_new1 = gr_new1.replace(\" \",\"\")   #remove white space, commas, question mark, etc to save it with only continous alpabhets\n",
    "    gr_new1 = gr_new1.replace(\".\",\"\")\n",
    "    gr_new1 = gr_new1.replace(\"?\",\"\")\n",
    "    gr_new1 = gr_new1.replace(\",\",\"\")\n",
    "    gr_new1 = gr_new1.replace(\"!\",\"\")\n",
    "    gr_new1 = gr_new1.replace(\"'\",\"\")\n",
    "    print(f\"{gr_new1}.mp3\")             #gives us the name of the audio clip with .mp3 format\n",
    "    myobj = gTTS(text=gr_new1, lang=language, slow=False)\n",
    "    myobj.save(f\"{gr_new1}.mp3\")        # saves the audio clip with that name\n",
    "    #myobj.save(\"1_min_audio.mp3\")"
   ]
  },
  {
   "cell_type": "code",
   "execution_count": null,
   "metadata": {},
   "outputs": [],
   "source": []
  },
  {
   "cell_type": "code",
   "execution_count": null,
   "metadata": {},
   "outputs": [],
   "source": []
  },
  {
   "cell_type": "code",
   "execution_count": null,
   "metadata": {},
   "outputs": [],
   "source": []
  },
  {
   "cell_type": "code",
   "execution_count": null,
   "metadata": {},
   "outputs": [],
   "source": []
  },
  {
   "cell_type": "code",
   "execution_count": null,
   "metadata": {},
   "outputs": [],
   "source": []
  },
  {
   "cell_type": "code",
   "execution_count": null,
   "metadata": {},
   "outputs": [],
   "source": []
  },
  {
   "cell_type": "code",
   "execution_count": null,
   "metadata": {},
   "outputs": [],
   "source": []
  }
 ],
 "metadata": {
  "kernelspec": {
   "display_name": "Python 3",
   "language": "python",
   "name": "python3"
  },
  "language_info": {
   "codemirror_mode": {
    "name": "ipython",
    "version": 3
   },
   "file_extension": ".py",
   "mimetype": "text/x-python",
   "name": "python",
   "nbconvert_exporter": "python",
   "pygments_lexer": "ipython3",
   "version": "3.7.4"
  }
 },
 "nbformat": 4,
 "nbformat_minor": 2
}
